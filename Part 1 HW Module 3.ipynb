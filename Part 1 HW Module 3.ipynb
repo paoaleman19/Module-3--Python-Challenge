{
 "cells": [
  {
   "cell_type": "code",
   "execution_count": 1,
   "id": "9397f9f1",
   "metadata": {},
   "outputs": [],
   "source": [
    "import os\n",
    "import csv"
   ]
  },
  {
   "cell_type": "code",
   "execution_count": 2,
   "id": "0994f993",
   "metadata": {},
   "outputs": [],
   "source": [
    "#Path to import from file location\n",
    "Budget_Data = os.path.join(\"Resources\", \"pybank_budget_data.csv\")"
   ]
  },
  {
   "cell_type": "code",
   "execution_count": 3,
   "id": "830f0468",
   "metadata": {},
   "outputs": [],
   "source": [
    "#State variables \n",
    "total_months = 0\n",
    "total_profit = 0\n",
    "greatest_increase = 0\n",
    "greatest_decrease = 0\n",
    "best_month = \"\"\n",
    "worst_month = \"\"\n",
    "previous = 0\n",
    "change = []\n",
    "monthly_change = []"
   ]
  },
  {
   "cell_type": "code",
   "execution_count": 4,
   "id": "56aae17a",
   "metadata": {},
   "outputs": [
    {
     "name": "stdout",
     "output_type": "stream",
     "text": [
      "Financial Analysis \n",
      "\n",
      "------------------------------ \n",
      "\n",
      "Total Months= 86\n",
      "Total = $22564198\n",
      "Greatest Increase in Profits: Aug-16  ($1862002)\n",
      "Greatest Decrease in Profits: Feb-14  ($-1825558)\n",
      "Average Change is: $-8311.105882352942\n"
     ]
    }
   ],
   "source": [
    "#Read in the csv file. When you write newline = ’’ it will get rid of the blank rows\n",
    "with open(Budget_Data, newline= \"\") as csvfile:\n",
    "    \n",
    "    #Split the data in commas\n",
    "    csvreader = csv.reader(csvfile, delimiter= ',')\n",
    "    \n",
    "    #to skiip the header line\n",
    "    header = next(csvreader)\n",
    "    \n",
    "    #to skip the first line when we subtract\n",
    "    firstline = next(csvreader)\n",
    "    \n",
    "    #since we skipped the first. month, we count it here\n",
    "    total_months = 1\n",
    "    total_profit += int(firstline[1]) \n",
    "    \n",
    "    previous = int(firstline[1])\n",
    "    \n",
    "    \n",
    "    for row in csvreader:\n",
    "    \n",
    "        previous_change = int(row[1])- previous\n",
    "        \n",
    "        if int(previous_change)>greatest_increase:\n",
    "            best_month = (row[0])\n",
    "            greatest_increase = int(previous_change)\n",
    "    \n",
    "        if int(previous_change) < greatest_decrease:\n",
    "            worst_month = (row[0])\n",
    "            greatest_decrease = int(previous_change)\n",
    "        #To save the month to month changes \n",
    "        #change.append(int(row[1]))\n",
    "  \n",
    "        #total_months.append(row[0])\n",
    "        #total_profit.append(int(row[1]))\n",
    "        #el previo mas el de ahorita\n",
    "        \n",
    "        total_months += 1\n",
    "        \n",
    "        total_profit += int(row[1]) \n",
    "    \n",
    "    \n",
    "        change.append(previous_change)\n",
    "   \n",
    "        previous =  int(row[1]) \n",
    "        \n",
    "\n",
    "sum_change= sum(change)/len(change)\n",
    "\n",
    "print(\"Financial Analysis \\n\")\n",
    "print(\"------------------------------ \\n\")\n",
    "print(\"Total Months= \" + str(total_months))\n",
    "print(\"Total = $\" + str(total_profit))\n",
    "print(\"Greatest Increase in Profits: \" + str(best_month) + \"  ($\" + str(greatest_increase) + \")\")\n",
    "print(\"Greatest Decrease in Profits: \" + str(worst_month) + \"  ($\" + str(greatest_decrease) + \")\")\n",
    "print(\"Average Change is: $\" + str(sum_change))\n",
    "    \n",
    "with open(\"Pybank_output_Data\", \"w\") as file:\n",
    "    file.write(\"Financial Analysis \\n\")\n",
    "    file.write(\"------------------------------ \\n\")\n",
    "    file.write(\"Total Months= \" + str(total_months))\n",
    "    file.write(\"Total = $\" + str(total_profit))\n",
    "    file.write(\"Greatest Increase in Profits: \" + str(best_month) + \"  ($\" + str(greatest_increase) + \")\")\n",
    "    file.write(\"Greatest Decrease in Profits: \" + str(worst_month) + \"  ($\" + str(greatest_decrease) + \")\")\n",
    "    file.write(\"Average Change is: $\" + str(sum_change))\n",
    "    "
   ]
  },
  {
   "cell_type": "code",
   "execution_count": null,
   "id": "9447233c",
   "metadata": {},
   "outputs": [],
   "source": []
  }
 ],
 "metadata": {
  "kernelspec": {
   "display_name": "Python [conda env:PythonData] *",
   "language": "python",
   "name": "conda-env-PythonData-py"
  },
  "language_info": {
   "codemirror_mode": {
    "name": "ipython",
    "version": 3
   },
   "file_extension": ".py",
   "mimetype": "text/x-python",
   "name": "python",
   "nbconvert_exporter": "python",
   "pygments_lexer": "ipython3",
   "version": "3.7.7"
  }
 },
 "nbformat": 4,
 "nbformat_minor": 5
}
